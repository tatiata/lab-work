{
  "nbformat": 4,
  "nbformat_minor": 0,
  "metadata": {
    "colab": {
      "name": "Лр.1",
      "provenance": [],
      "authorship_tag": "ABX9TyNhPdNAhyP6LH7DNuPCDbRm",
      "include_colab_link": true
    },
    "kernelspec": {
      "name": "python3",
      "display_name": "Python 3"
    }
  },
  "cells": [
    {
      "cell_type": "markdown",
      "metadata": {
        "id": "view-in-github",
        "colab_type": "text"
      },
      "source": [
        "<a href=\"https://colab.research.google.com/github/tatiata/lab-work/blob/main/%D0%9B%D1%80_1.ipynb\" target=\"_parent\"><img src=\"https://colab.research.google.com/assets/colab-badge.svg\" alt=\"Open In Colab\"/></a>"
      ]
    },
    {
      "cell_type": "markdown",
      "metadata": {
        "id": "fLKKr64td4k-"
      },
      "source": [
        "Вариант 18"
      ]
    },
    {
      "cell_type": "code",
      "metadata": {
        "id": "PrcqeUyGDV3R"
      },
      "source": [
        "import timeit\r\n",
        "import numpy as np\r\n",
        "\r\n",
        "def python(size):\r\n",
        "  z = []\r\n",
        "  for i in z:\r\n",
        "      if i == 0 or i == 1: \r\n",
        "        pass\r\n",
        "\r\n",
        "def nonpy(size):\r\n",
        "    z = np.zeros(10)\r\n",
        "    z[4] = 1\r\n",
        "\r\n",
        "if __name__ == '__main__':\r\n",
        "        start_time = timeit.default_timer();\r\n",
        "        python([0, 0, 0, 0, 1, 0, 0, 0, 0, 0])\r\n",
        "        range_time_1 = timeit.default_timer() - start_time\r\n",
        "\r\n",
        "        start_time = timeit.default_timer();\r\n",
        "        python([0, 0, 0, 0, 1, 0, 0, 0, 0, 0])\r\n",
        "        arange_time_1 = timeit.default_timer() - start_time\r\n",
        "\r\n",
        "        start_time = timeit.default_timer();\r\n",
        "        nonpy([0, 0, 0, 0, 1, 0, 0, 0, 0, 0])\r\n",
        "        range_time_2 = timeit.default_timer() - start_time\r\n",
        "\r\n",
        "        start_time = timeit.default_timer();\r\n",
        "        nonpy([0, 0, 0, 0, 1, 0, 0, 0, 0, 0])\r\n",
        "        arange_time_2 = timeit.default_timer() - start_time"
      ],
      "execution_count": null,
      "outputs": []
    },
    {
      "cell_type": "markdown",
      "metadata": {
        "id": "6gXH1FOoctHR"
      },
      "source": [
        "Работа через nunpy выполняется быстее чем через python"
      ]
    }
  ]
}
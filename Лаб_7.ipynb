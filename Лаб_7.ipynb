{
  "nbformat": 4,
  "nbformat_minor": 0,
  "metadata": {
    "colab": {
      "name": "Лаб 7",
      "provenance": [],
      "authorship_tag": "ABX9TyMeE9tuXaOkekoHFU1y/ldz",
      "include_colab_link": true
    },
    "kernelspec": {
      "name": "python3",
      "display_name": "Python 3"
    },
    "language_info": {
      "name": "python"
    }
  },
  "cells": [
    {
      "cell_type": "markdown",
      "metadata": {
        "id": "view-in-github",
        "colab_type": "text"
      },
      "source": [
        "<a href=\"https://colab.research.google.com/github/tatiata/lab-work/blob/main/%D0%9B%D0%B0%D0%B1_7.ipynb\" target=\"_parent\"><img src=\"https://colab.research.google.com/assets/colab-badge.svg\" alt=\"Open In Colab\"/></a>"
      ]
    },
    {
      "cell_type": "markdown",
      "metadata": {
        "id": "U8F09J4Oy89i"
      },
      "source": [
        "# Пример"
      ]
    },
    {
      "cell_type": "code",
      "metadata": {
        "colab": {
          "resources": {
            "http://localhost:8080/nbextensions/google.colab/files.js": {
              "data": "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",
              "ok": true,
              "headers": [
                [
                  "content-type",
                  "application/javascript"
                ]
              ],
              "status": 200,
              "status_text": ""
            }
          },
          "base_uri": "https://localhost:8080/",
          "height": 73
        },
        "id": "XjT5m9kwfXRj",
        "outputId": "2e1213a7-f22e-4a22-dde6-c9b7206fb30d"
      },
      "source": [
        "from google.colab import files\n",
        "uploaded = files.upload()"
      ],
      "execution_count": null,
      "outputs": [
        {
          "output_type": "display_data",
          "data": {
            "text/html": [
              "\n",
              "     <input type=\"file\" id=\"files-51e43992-380e-437e-bdd0-ff1075b9f77d\" name=\"files[]\" multiple disabled\n",
              "        style=\"border:none\" />\n",
              "     <output id=\"result-51e43992-380e-437e-bdd0-ff1075b9f77d\">\n",
              "      Upload widget is only available when the cell has been executed in the\n",
              "      current browser session. Please rerun this cell to enable.\n",
              "      </output>\n",
              "      <script src=\"/nbextensions/google.colab/files.js\"></script> "
            ],
            "text/plain": [
              "<IPython.core.display.HTML object>"
            ]
          },
          "metadata": {
            "tags": []
          }
        },
        {
          "output_type": "stream",
          "text": [
            "Saving dataset7.csv to dataset7.csv\n"
          ],
          "name": "stdout"
        }
      ]
    },
    {
      "cell_type": "code",
      "metadata": {
        "id": "gBIEqvvpP2Al"
      },
      "source": [
        "from pandas import read_csv\n",
        "from sklearn.preprocessing import MinMaxScaler"
      ],
      "execution_count": 13,
      "outputs": []
    },
    {
      "cell_type": "code",
      "metadata": {
        "colab": {
          "base_uri": "https://localhost:8080/"
        },
        "id": "x_Z0RZFfWjuN",
        "outputId": "d6d4dd34-649c-48ec-fa76-009524d0a910"
      },
      "source": [
        "series = read_csv('dataset7.csv', header=0, index_col=0)\n",
        "print(series.head())\n",
        "\n",
        "values = series.values\n",
        "values = values.reshape((len(values), 1))\n",
        "\n",
        "scaler = MinMaxScaler(feature_range=(0,1))\n",
        "scaler = scaler.fit(values)\n",
        "print('Min: %f, Max: %f' % (scaler.data_min_, scaler.data_max_))\n",
        "\n",
        "normalized = scaler.transform(values)\n",
        "for i in range(5):\n",
        "  print(normalized[i])\n",
        "\n",
        "inversed = scaler.inverse_transform(normalized)\n",
        "for i in range(5):\n",
        "  print(inversed[i])"
      ],
      "execution_count": null,
      "outputs": [
        {
          "output_type": "stream",
          "text": [
            "            Temp\n",
            "Date            \n",
            "1981-01-01  20.7\n",
            "1981-01-02  17.9\n",
            "1981-01-03  18.8\n",
            "1981-01-04  14.6\n",
            "1981-01-05  15.8\n",
            "Min: 0.000000, Max: 26.300000\n",
            "[0.78707224]\n",
            "[0.68060837]\n",
            "[0.7148289]\n",
            "[0.55513308]\n",
            "[0.60076046]\n",
            "[20.7]\n",
            "[17.9]\n",
            "[18.8]\n",
            "[14.6]\n",
            "[15.8]\n"
          ],
          "name": "stdout"
        }
      ]
    },
    {
      "cell_type": "code",
      "metadata": {
        "colab": {
          "base_uri": "https://localhost:8080/",
          "height": 281
        },
        "id": "NtIqJcCejp_f",
        "outputId": "e8cbdf60-950f-4db0-c1b6-8172b54e80b6"
      },
      "source": [
        "from pandas import read_csv\n",
        "from matplotlib import pyplot\n",
        "series = read_csv('dataset7.csv', header=0, index_col=0)\n",
        "series.hist()\n",
        "pyplot.show()"
      ],
      "execution_count": null,
      "outputs": [
        {
          "output_type": "display_data",
          "data": {
            "image/png": "[encoded data removed]",
            "text/plain": [
              "<Figure size 432x288 with 1 Axes>"
            ]
          },
          "metadata": {
            "tags": [],
            "needs_background": "light"
          }
        }
      ]
    },
    {
      "cell_type": "markdown",
      "metadata": {
        "id": "FhuxcBlqmp2H"
      },
      "source": [
        "# 18 вариант"
      ]
    },
    {
      "cell_type": "code",
      "metadata": {
        "id": "K4tLNLHcpIKF"
      },
      "source": [
        "from numpy.random import seed\n",
        "from numpy.random import randn\n",
        "\n",
        "\n",
        "from numpy import mean\n",
        "from numpy import std"
      ],
      "execution_count": 34,
      "outputs": []
    },
    {
      "cell_type": "code",
      "metadata": {
        "id": "6CX4pfGwmtiC"
      },
      "source": [
        "import requests\n",
        "import pandas as pd\n",
        "import seaborn as sns\n",
        "import matplotlib.pyplot as plt\n",
        "\n",
        "url='http://pogoda-service.ru/archive_gsod_res.php?country=KE&station=637930&datepicker_beg=01.12.2010&datepicker_end=01.12.2020&bsubmit=%D0%9F%D0%BE%D1%81%D0%BC%D0%BE%D1%82%D1%80%D0%B5%D1%82%D1%8C'\n",
        "req=requests.get(url)\n",
        "data1=pd.read_html(req.text)\n",
        "df=data1[0]"
      ],
      "execution_count": 72,
      "outputs": []
    },
    {
      "cell_type": "code",
      "metadata": {
        "colab": {
          "base_uri": "https://localhost:8080/",
          "height": 213
        },
        "id": "S-7gtXW0qn_2",
        "outputId": "1176c35b-6a45-474b-9513-e86d976bf463"
      },
      "source": [
        "df.head()"
      ],
      "execution_count": 73,
      "outputs": [
        {
          "output_type": "execute_result",
          "data": {
            "text/html": [
              "<div>\n",
              "<style scoped>\n",
              "    .dataframe tbody tr th:only-of-type {\n",
              "        vertical-align: middle;\n",
              "    }\n",
              "\n",
              "    .dataframe tbody tr th {\n",
              "        vertical-align: top;\n",
              "    }\n",
              "\n",
              "    .dataframe thead th {\n",
              "        text-align: right;\n",
              "    }\n",
              "</style>\n",
              "<table border=\"1\" class=\"dataframe\">\n",
              "  <thead>\n",
              "    <tr style=\"text-align: right;\">\n",
              "      <th></th>\n",
              "      <th>ÐÐ°ÑÐ°</th>\n",
              "      <th>ÐÐ°ÐºÑÐ¸Ð¼Ð°Ð»ÑÐ½Ð°Ñ ÑÐµÐ¼Ð¿ÐµÑÐ°ÑÑÑÐ°</th>\n",
              "      <th>ÐÐ¸Ð½Ð¸Ð¼Ð°Ð»ÑÐ½Ð°Ñ ÑÐµÐ¼Ð¿ÐµÑÐ°ÑÑÑÐ°</th>\n",
              "      <th>Ð¡ÑÐµÐ´Ð½ÑÑ ÑÐµÐ¼Ð¿ÐµÑÐ°ÑÑÑÐ°</th>\n",
              "      <th>ÐÑÐ¼Ð¾ÑÑÐµÑÐ½Ð¾Ðµ Ð´Ð°Ð²Ð»ÐµÐ½Ð¸Ðµ</th>\n",
              "      <th>Ð¡ÐºÐ¾ÑÐ¾ÑÑÑ Ð²ÐµÑÑÐ°</th>\n",
              "      <th>ÐÑÐ°Ð´ÐºÐ¸</th>\n",
              "      <th>Ð­ÑÑÐµÐºÑÐ¸Ð²Ð½Ð°Ñ ÑÐµÐ¼Ð¿ÐµÑÐ°ÑÑÑÐ°</th>\n",
              "    </tr>\n",
              "  </thead>\n",
              "  <tbody>\n",
              "    <tr>\n",
              "      <th>0</th>\n",
              "      <td>01.12.2010</td>\n",
              "      <td>33.0</td>\n",
              "      <td>22.0</td>\n",
              "      <td>26.6</td>\n",
              "      <td>NaN</td>\n",
              "      <td>3</td>\n",
              "      <td>0.0</td>\n",
              "      <td>27.7</td>\n",
              "    </tr>\n",
              "    <tr>\n",
              "      <th>1</th>\n",
              "      <td>02.12.2010</td>\n",
              "      <td>32.3</td>\n",
              "      <td>22.0</td>\n",
              "      <td>25.7</td>\n",
              "      <td>NaN</td>\n",
              "      <td>2</td>\n",
              "      <td>2.0</td>\n",
              "      <td>27.7</td>\n",
              "    </tr>\n",
              "    <tr>\n",
              "      <th>2</th>\n",
              "      <td>03.12.2010</td>\n",
              "      <td>32.8</td>\n",
              "      <td>21.5</td>\n",
              "      <td>27.4</td>\n",
              "      <td>NaN</td>\n",
              "      <td>4</td>\n",
              "      <td>0.0</td>\n",
              "      <td>27.9</td>\n",
              "    </tr>\n",
              "    <tr>\n",
              "      <th>3</th>\n",
              "      <td>04.12.2010</td>\n",
              "      <td>33.6</td>\n",
              "      <td>22.5</td>\n",
              "      <td>26.7</td>\n",
              "      <td>NaN</td>\n",
              "      <td>3</td>\n",
              "      <td>0.0</td>\n",
              "      <td>28.1</td>\n",
              "    </tr>\n",
              "    <tr>\n",
              "      <th>4</th>\n",
              "      <td>05.12.2010</td>\n",
              "      <td>33.7</td>\n",
              "      <td>23.0</td>\n",
              "      <td>27.1</td>\n",
              "      <td>NaN</td>\n",
              "      <td>4</td>\n",
              "      <td>0.0</td>\n",
              "      <td>27.9</td>\n",
              "    </tr>\n",
              "  </tbody>\n",
              "</table>\n",
              "</div>"
            ],
            "text/plain": [
              "     ÐÐ°ÑÐ°  ...  Ð­ÑÑÐµÐºÑÐ¸Ð²Ð½Ð°Ñ ÑÐµÐ¼Ð¿ÐµÑÐ°ÑÑÑÐ°\n",
              "0  01.12.2010  ...                                           27.7\n",
              "1  02.12.2010  ...                                           27.7\n",
              "2  03.12.2010  ...                                           27.9\n",
              "3  04.12.2010  ...                                           28.1\n",
              "4  05.12.2010  ...                                           27.9\n",
              "\n",
              "[5 rows x 8 columns]"
            ]
          },
          "metadata": {
            "tags": []
          },
          "execution_count": 73
        }
      ]
    },
    {
      "cell_type": "code",
      "metadata": {
        "id": "OwCBhiG_rwDT"
      },
      "source": [
        "df = df.rename(columns={'ÐÐ°ÑÐ°': 'Дата', 'Ð¡ÑÐµÐ´Ð½ÑÑ ÑÐµÐ¼Ð¿ÐµÑÐ°ÑÑÑÐ°': 'Средняя температура'})"
      ],
      "execution_count": 74,
      "outputs": []
    },
    {
      "cell_type": "code",
      "metadata": {
        "id": "hilqcmn7sDtS"
      },
      "source": [
        "df = df.rename(columns={'ÐÐ°ÐºÑÐ¸Ð¼Ð°Ð»ÑÐ½Ð°Ñ ÑÐµÐ¼Ð¿ÐµÑÐ°ÑÑÑÐ°': 'Максимальная температура', 'ÐÐ¸Ð½Ð¸Ð¼Ð°Ð»ÑÐ½Ð°Ñ ÑÐµÐ¼Ð¿ÐµÑÐ°ÑÑÑÐ°': 'Минимальная температура'})"
      ],
      "execution_count": 75,
      "outputs": []
    },
    {
      "cell_type": "code",
      "metadata": {
        "id": "RMR7eupCseQ_"
      },
      "source": [
        "df.drop(['ÐÑÐ¼Ð¾ÑÑÐµÑÐ½Ð¾Ðµ Ð´Ð°Ð²Ð»ÐµÐ½Ð¸Ðµ','Ð¡ÐºÐ¾ÑÐ¾ÑÑÑ Ð²ÐµÑÑÐ°', 'ÐÑÐ°Ð´ÐºÐ¸', 'Ð­ÑÑÐµÐºÑÐ¸Ð²Ð½Ð°Ñ ÑÐµÐ¼Ð¿ÐµÑÐ°ÑÑÑÐ°'],axis=1,inplace=True)"
      ],
      "execution_count": 76,
      "outputs": []
    },
    {
      "cell_type": "code",
      "metadata": {
        "id": "AYorUZHlr-V-"
      },
      "source": [
        "df.drop(['Максимальная температура'],axis=1,inplace=True)"
      ],
      "execution_count": 77,
      "outputs": []
    },
    {
      "cell_type": "code",
      "metadata": {
        "id": "8AwCBFj_uYuT"
      },
      "source": [
        "df.drop(['Минимальная температура'],axis=1,inplace=True)"
      ],
      "execution_count": 78,
      "outputs": []
    },
    {
      "cell_type": "code",
      "metadata": {
        "colab": {
          "base_uri": "https://localhost:8080/",
          "height": 404
        },
        "id": "ZnAGUYMcuCEf",
        "outputId": "d9c53315-b389-46fe-b035-30e4ecf66472"
      },
      "source": [
        "df"
      ],
      "execution_count": 87,
      "outputs": [
        {
          "output_type": "execute_result",
          "data": {
            "text/html": [
              "<div>\n",
              "<style scoped>\n",
              "    .dataframe tbody tr th:only-of-type {\n",
              "        vertical-align: middle;\n",
              "    }\n",
              "\n",
              "    .dataframe tbody tr th {\n",
              "        vertical-align: top;\n",
              "    }\n",
              "\n",
              "    .dataframe thead th {\n",
              "        text-align: right;\n",
              "    }\n",
              "</style>\n",
              "<table border=\"1\" class=\"dataframe\">\n",
              "  <thead>\n",
              "    <tr style=\"text-align: right;\">\n",
              "      <th></th>\n",
              "      <th>Дата</th>\n",
              "      <th>Средняя температура</th>\n",
              "    </tr>\n",
              "  </thead>\n",
              "  <tbody>\n",
              "    <tr>\n",
              "      <th>0</th>\n",
              "      <td>01.12.2010</td>\n",
              "      <td>26.6</td>\n",
              "    </tr>\n",
              "    <tr>\n",
              "      <th>1</th>\n",
              "      <td>02.12.2010</td>\n",
              "      <td>25.7</td>\n",
              "    </tr>\n",
              "    <tr>\n",
              "      <th>2</th>\n",
              "      <td>03.12.2010</td>\n",
              "      <td>27.4</td>\n",
              "    </tr>\n",
              "    <tr>\n",
              "      <th>3</th>\n",
              "      <td>04.12.2010</td>\n",
              "      <td>26.7</td>\n",
              "    </tr>\n",
              "    <tr>\n",
              "      <th>4</th>\n",
              "      <td>05.12.2010</td>\n",
              "      <td>27.1</td>\n",
              "    </tr>\n",
              "    <tr>\n",
              "      <th>...</th>\n",
              "      <td>...</td>\n",
              "      <td>...</td>\n",
              "    </tr>\n",
              "    <tr>\n",
              "      <th>995</th>\n",
              "      <td>13.09.2013</td>\n",
              "      <td>23.8</td>\n",
              "    </tr>\n",
              "    <tr>\n",
              "      <th>996</th>\n",
              "      <td>14.09.2013</td>\n",
              "      <td>24.4</td>\n",
              "    </tr>\n",
              "    <tr>\n",
              "      <th>997</th>\n",
              "      <td>15.09.2013</td>\n",
              "      <td>24.7</td>\n",
              "    </tr>\n",
              "    <tr>\n",
              "      <th>998</th>\n",
              "      <td>16.09.2013</td>\n",
              "      <td>24.3</td>\n",
              "    </tr>\n",
              "    <tr>\n",
              "      <th>999</th>\n",
              "      <td>17.09.2013</td>\n",
              "      <td>24.8</td>\n",
              "    </tr>\n",
              "  </tbody>\n",
              "</table>\n",
              "<p>1000 rows × 2 columns</p>\n",
              "</div>"
            ],
            "text/plain": [
              "           Дата  Средняя температура\n",
              "0    01.12.2010                 26.6\n",
              "1    02.12.2010                 25.7\n",
              "2    03.12.2010                 27.4\n",
              "3    04.12.2010                 26.7\n",
              "4    05.12.2010                 27.1\n",
              "..          ...                  ...\n",
              "995  13.09.2013                 23.8\n",
              "996  14.09.2013                 24.4\n",
              "997  15.09.2013                 24.7\n",
              "998  16.09.2013                 24.3\n",
              "999  17.09.2013                 24.8\n",
              "\n",
              "[1000 rows x 2 columns]"
            ]
          },
          "metadata": {
            "tags": []
          },
          "execution_count": 87
        }
      ]
    },
    {
      "cell_type": "code",
      "metadata": {
        "colab": {
          "base_uri": "https://localhost:8080/"
        },
        "id": "HyXzQm0VxW84",
        "outputId": "882deccc-0484-44ab-89c8-7c1f94e91f68"
      },
      "source": [
        "df.info()"
      ],
      "execution_count": 88,
      "outputs": [
        {
          "output_type": "stream",
          "text": [
            "<class 'pandas.core.frame.DataFrame'>\n",
            "RangeIndex: 1000 entries, 0 to 999\n",
            "Data columns (total 2 columns):\n",
            " #   Column               Non-Null Count  Dtype  \n",
            "---  ------               --------------  -----  \n",
            " 0   Дата                 1000 non-null   object \n",
            " 1   Средняя температура  1000 non-null   float64\n",
            "dtypes: float64(1), object(1)\n",
            "memory usage: 15.8+ KB\n"
          ],
          "name": "stdout"
        }
      ]
    },
    {
      "cell_type": "code",
      "metadata": {
        "id": "_lfqoU55BeN0"
      },
      "source": [
        "from pandas import read_html\n",
        "from sklearn.preprocessing import MinMaxScaler"
      ],
      "execution_count": 89,
      "outputs": []
    },
    {
      "cell_type": "code",
      "metadata": {
        "id": "Y7fiYULHJd_l"
      },
      "source": [
        "df1=df['Средняя температура']"
      ],
      "execution_count": 103,
      "outputs": []
    },
    {
      "cell_type": "code",
      "metadata": {
        "colab": {
          "base_uri": "https://localhost:8080/"
        },
        "id": "ttv2KwkRxqU1",
        "outputId": "3a788f63-06fc-4bbe-9679-bcf58aa72301"
      },
      "source": [
        "\n",
        "values = df1.values\n",
        "values = values.reshape((len(values), 1))\n",
        "\n",
        "scaler = MinMaxScaler(feature_range=(0,1))\n",
        "scaler = scaler.fit(values)\n",
        "print('Min: %f, Max: %f' % (scaler.data_min_, scaler.data_max_))\n",
        "\n",
        "normalized = scaler.transform(values)\n",
        "for i in range(5):\n",
        "  print(normalized[i])\n",
        "\n",
        "inversed = scaler.inverse_transform(normalized)\n",
        "for i in range(5):\n",
        "  print(inversed[i])"
      ],
      "execution_count": 104,
      "outputs": [
        {
          "output_type": "stream",
          "text": [
            "Min: 20.900000, Max: 30.300000\n",
            "[0.60638298]\n",
            "[0.5106383]\n",
            "[0.69148936]\n",
            "[0.61702128]\n",
            "[0.65957447]\n",
            "[26.6]\n",
            "[25.7]\n",
            "[27.4]\n",
            "[26.7]\n",
            "[27.1]\n"
          ],
          "name": "stdout"
        }
      ]
    },
    {
      "cell_type": "code",
      "metadata": {
        "colab": {
          "base_uri": "https://localhost:8080/",
          "height": 281
        },
        "id": "tt_YniX9x_Fk",
        "outputId": "3598476f-684b-45c6-8f62-800e85f042a8"
      },
      "source": [
        "from matplotlib import pyplot\n",
        "\n",
        "df.hist()\n",
        "pyplot.show()"
      ],
      "execution_count": 102,
      "outputs": [
        {
          "output_type": "display_data",
          "data": {
            "image/png": "[encoded data removed]",
            "text/plain": [
              "<Figure size 432x288 with 1 Axes>"
            ]
          },
          "metadata": {
            "tags": [],
            "needs_background": "light"
          }
        }
      ]
    },
    {
      "cell_type": "code",
      "metadata": {
        "id": "HfcrlAe4Ae3O"
      },
      "source": [
        "from pandas import read_csv\n",
        "from sklearn.preprocessing import StandardScaler\n",
        "from math import sqrt"
      ],
      "execution_count": 1,
      "outputs": []
    },
    {
      "cell_type": "code",
      "metadata": {
        "colab": {
          "base_uri": "https://localhost:8080/"
        },
        "id": "8RZBaZV-BLJF",
        "outputId": "967480d6-3376-4c3c-fef4-b6e3fa43e8f8"
      },
      "source": [
        "values = df1.values\n",
        "values = values.reshape((len(values), 1))\n",
        "\n",
        "scaler = StandardScaler()\n",
        "scaler = scaler.fit(values)\n",
        "print('Mean: %f, StandardDeviation: %f' % (scaler.mean_, sqrt(scaler.var_)))\n",
        "\n",
        "normalized = scaler.transform(values)\n",
        "for i in range(5):\n",
        "  print(normalized[i])\n",
        "\n",
        "inversed = scaler.inverse_transform(normalized)\n",
        "for i in range(5):\n",
        "  print(inversed[i])"
      ],
      "execution_count": 105,
      "outputs": [
        {
          "output_type": "stream",
          "text": [
            "Mean: 25.377300, StandardDeviation: 1.673605\n",
            "[0.73057847]\n",
            "[0.19281727]\n",
            "[1.20858843]\n",
            "[0.79032971]\n",
            "[1.02933469]\n",
            "[26.6]\n",
            "[25.7]\n",
            "[27.4]\n",
            "[26.7]\n",
            "[27.1]\n"
          ],
          "name": "stdout"
        }
      ]
    },
    {
      "cell_type": "markdown",
      "metadata": {
        "id": "fRTtnlIXN5Bz"
      },
      "source": [
        "# таблица полученных результатов"
      ]
    },
    {
      "cell_type": "markdown",
      "metadata": {
        "id": "G_699QuaNn9w"
      },
      "source": [
        "![image.png](data:image/png;base64,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)"
      ]
    }
  ]
}